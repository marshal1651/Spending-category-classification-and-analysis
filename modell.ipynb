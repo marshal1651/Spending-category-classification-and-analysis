{
 "cells": [
  {
   "cell_type": "code",
   "execution_count": 1,
   "id": "b8f3a14f-201d-41c6-9099-48396fb10b57",
   "metadata": {},
   "outputs": [],
   "source": [
    "import pandas as pd\n",
    "import matplotlib.pyplot as plt\n",
    "import seaborn as sns"
   ]
  },
  {
   "cell_type": "code",
   "execution_count": 2,
   "id": "320ef28b-daa6-48b8-a38e-ee701e8fd782",
   "metadata": {},
   "outputs": [],
   "source": [
    "df=pd.read_csv(r\"C:\\pyythonn\\Assignment 1\\cleaned_data.csv\")"
   ]
  },
  {
   "cell_type": "code",
   "execution_count": 3,
   "id": "30f94e8f-872d-4572-bb96-c16e98807da4",
   "metadata": {},
   "outputs": [
    {
     "data": {
      "text/html": [
       "<div>\n",
       "<style scoped>\n",
       "    .dataframe tbody tr th:only-of-type {\n",
       "        vertical-align: middle;\n",
       "    }\n",
       "\n",
       "    .dataframe tbody tr th {\n",
       "        vertical-align: top;\n",
       "    }\n",
       "\n",
       "    .dataframe thead th {\n",
       "        text-align: right;\n",
       "    }\n",
       "</style>\n",
       "<table border=\"1\" class=\"dataframe\">\n",
       "  <thead>\n",
       "    <tr style=\"text-align: right;\">\n",
       "      <th></th>\n",
       "      <th>invoice_no</th>\n",
       "      <th>customer_id</th>\n",
       "      <th>category</th>\n",
       "      <th>quantity</th>\n",
       "      <th>price</th>\n",
       "      <th>invoice_date</th>\n",
       "      <th>shopping_mall</th>\n",
       "      <th>gender</th>\n",
       "      <th>age</th>\n",
       "      <th>payment_method</th>\n",
       "      <th>total_sales</th>\n",
       "      <th>age_group</th>\n",
       "      <th>year</th>\n",
       "      <th>month</th>\n",
       "      <th>day_name</th>\n",
       "    </tr>\n",
       "  </thead>\n",
       "  <tbody>\n",
       "    <tr>\n",
       "      <th>0</th>\n",
       "      <td>I138884</td>\n",
       "      <td>C241288</td>\n",
       "      <td>Clothing</td>\n",
       "      <td>5</td>\n",
       "      <td>1500.40</td>\n",
       "      <td>2022-08-05</td>\n",
       "      <td>Kanyon</td>\n",
       "      <td>Female</td>\n",
       "      <td>28.0</td>\n",
       "      <td>Credit Card</td>\n",
       "      <td>7502.00</td>\n",
       "      <td>20-29</td>\n",
       "      <td>2022</td>\n",
       "      <td>8</td>\n",
       "      <td>Friday</td>\n",
       "    </tr>\n",
       "    <tr>\n",
       "      <th>1</th>\n",
       "      <td>I317333</td>\n",
       "      <td>C111565</td>\n",
       "      <td>Shoes</td>\n",
       "      <td>3</td>\n",
       "      <td>1800.51</td>\n",
       "      <td>2021-12-12</td>\n",
       "      <td>Forum Istanbul</td>\n",
       "      <td>Male</td>\n",
       "      <td>21.0</td>\n",
       "      <td>Debit Card</td>\n",
       "      <td>5401.53</td>\n",
       "      <td>20-29</td>\n",
       "      <td>2021</td>\n",
       "      <td>12</td>\n",
       "      <td>Sunday</td>\n",
       "    </tr>\n",
       "    <tr>\n",
       "      <th>2</th>\n",
       "      <td>I127801</td>\n",
       "      <td>C266599</td>\n",
       "      <td>Clothing</td>\n",
       "      <td>1</td>\n",
       "      <td>300.08</td>\n",
       "      <td>2021-11-09</td>\n",
       "      <td>Metrocity</td>\n",
       "      <td>Male</td>\n",
       "      <td>20.0</td>\n",
       "      <td>Cash</td>\n",
       "      <td>300.08</td>\n",
       "      <td>Teen</td>\n",
       "      <td>2021</td>\n",
       "      <td>11</td>\n",
       "      <td>Tuesday</td>\n",
       "    </tr>\n",
       "    <tr>\n",
       "      <th>3</th>\n",
       "      <td>I173702</td>\n",
       "      <td>C988172</td>\n",
       "      <td>Shoes</td>\n",
       "      <td>5</td>\n",
       "      <td>3000.85</td>\n",
       "      <td>2021-05-16</td>\n",
       "      <td>Metropol AVM</td>\n",
       "      <td>Female</td>\n",
       "      <td>66.0</td>\n",
       "      <td>Credit Card</td>\n",
       "      <td>15004.25</td>\n",
       "      <td>40+</td>\n",
       "      <td>2021</td>\n",
       "      <td>5</td>\n",
       "      <td>Sunday</td>\n",
       "    </tr>\n",
       "    <tr>\n",
       "      <th>4</th>\n",
       "      <td>I337046</td>\n",
       "      <td>C189076</td>\n",
       "      <td>Books</td>\n",
       "      <td>4</td>\n",
       "      <td>60.60</td>\n",
       "      <td>2021-10-24</td>\n",
       "      <td>Kanyon</td>\n",
       "      <td>Female</td>\n",
       "      <td>53.0</td>\n",
       "      <td>Cash</td>\n",
       "      <td>242.40</td>\n",
       "      <td>40+</td>\n",
       "      <td>2021</td>\n",
       "      <td>10</td>\n",
       "      <td>Sunday</td>\n",
       "    </tr>\n",
       "  </tbody>\n",
       "</table>\n",
       "</div>"
      ],
      "text/plain": [
       "  invoice_no customer_id  category  quantity    price invoice_date  \\\n",
       "0    I138884     C241288  Clothing         5  1500.40   2022-08-05   \n",
       "1    I317333     C111565     Shoes         3  1800.51   2021-12-12   \n",
       "2    I127801     C266599  Clothing         1   300.08   2021-11-09   \n",
       "3    I173702     C988172     Shoes         5  3000.85   2021-05-16   \n",
       "4    I337046     C189076     Books         4    60.60   2021-10-24   \n",
       "\n",
       "    shopping_mall  gender   age payment_method  total_sales age_group  year  \\\n",
       "0          Kanyon  Female  28.0    Credit Card      7502.00     20-29  2022   \n",
       "1  Forum Istanbul    Male  21.0     Debit Card      5401.53     20-29  2021   \n",
       "2       Metrocity    Male  20.0           Cash       300.08      Teen  2021   \n",
       "3    Metropol AVM  Female  66.0    Credit Card     15004.25       40+  2021   \n",
       "4          Kanyon  Female  53.0           Cash       242.40       40+  2021   \n",
       "\n",
       "   month day_name  \n",
       "0      8   Friday  \n",
       "1     12   Sunday  \n",
       "2     11  Tuesday  \n",
       "3      5   Sunday  \n",
       "4     10   Sunday  "
      ]
     },
     "execution_count": 3,
     "metadata": {},
     "output_type": "execute_result"
    }
   ],
   "source": [
    "df.head()"
   ]
  },
  {
   "cell_type": "code",
   "execution_count": 4,
   "id": "1ecbcd9a-81cb-4c62-b23f-90c0e265d34b",
   "metadata": {},
   "outputs": [
    {
     "name": "stdout",
     "output_type": "stream",
     "text": [
      "           quantity         price           age   total_sales          year  \\\n",
      "count  99457.000000  99457.000000  99457.000000  99457.000000  99457.000000   \n",
      "mean       3.003429    689.256321     43.425350   2528.789268   2021.629408   \n",
      "std        1.413025    941.184567     14.980437   4222.475781      0.636136   \n",
      "min        1.000000      5.230000     18.000000      5.230000   2021.000000   \n",
      "25%        2.000000     45.450000     30.000000    136.350000   2021.000000   \n",
      "50%        3.000000    203.300000     43.000000    600.170000   2022.000000   \n",
      "75%        4.000000   1200.320000     56.000000   2700.720000   2022.000000   \n",
      "max        5.000000   5250.000000     69.000000  26250.000000   2023.000000   \n",
      "\n",
      "              month  \n",
      "count  99457.000000  \n",
      "mean       6.113898  \n",
      "std        3.569511  \n",
      "min        1.000000  \n",
      "25%        3.000000  \n",
      "50%        6.000000  \n",
      "75%        9.000000  \n",
      "max       12.000000  \n"
     ]
    }
   ],
   "source": [
    "print(df.describe())"
   ]
  },
  {
   "cell_type": "code",
   "execution_count": 5,
   "id": "a8edcaf9-20ec-4d40-8244-19e9f07647aa",
   "metadata": {},
   "outputs": [
    {
     "data": {
      "text/plain": [
       "(99457, 15)"
      ]
     },
     "execution_count": 5,
     "metadata": {},
     "output_type": "execute_result"
    }
   ],
   "source": [
    "df.shape"
   ]
  },
  {
   "cell_type": "code",
   "execution_count": 6,
   "id": "bf23aaf4-e3ea-499b-9e3c-f7cb83611bd5",
   "metadata": {},
   "outputs": [
    {
     "data": {
      "text/plain": [
       "np.int64(0)"
      ]
     },
     "execution_count": 6,
     "metadata": {},
     "output_type": "execute_result"
    }
   ],
   "source": [
    "df.duplicated().sum()"
   ]
  },
  {
   "cell_type": "code",
   "execution_count": 7,
   "id": "96ca869f-5447-4d8a-bcf1-787cdf9324b4",
   "metadata": {},
   "outputs": [
    {
     "data": {
      "text/plain": [
       "invoice_no        0\n",
       "customer_id       0\n",
       "category          0\n",
       "quantity          0\n",
       "price             0\n",
       "invoice_date      0\n",
       "shopping_mall     0\n",
       "gender            0\n",
       "age               0\n",
       "payment_method    0\n",
       "total_sales       0\n",
       "age_group         0\n",
       "year              0\n",
       "month             0\n",
       "day_name          0\n",
       "dtype: int64"
      ]
     },
     "execution_count": 7,
     "metadata": {},
     "output_type": "execute_result"
    }
   ],
   "source": [
    "df.isnull().sum()"
   ]
  },
  {
   "cell_type": "code",
   "execution_count": 8,
   "id": "38e155c3-9cda-4a96-921a-c7394011bf9e",
   "metadata": {},
   "outputs": [
    {
     "data": {
      "text/plain": [
       "(99457, 15)"
      ]
     },
     "execution_count": 8,
     "metadata": {},
     "output_type": "execute_result"
    }
   ],
   "source": [
    "df.shape"
   ]
  },
  {
   "cell_type": "code",
   "execution_count": 9,
   "id": "d384de5f-4248-4e2d-8bad-b0f4e22f0580",
   "metadata": {},
   "outputs": [
    {
     "name": "stdout",
     "output_type": "stream",
     "text": [
      "Bin edges (Q0, Q1, Q2, Q3, Q4):\n",
      "[5.23000e+00 1.36350e+02 6.00170e+02 2.70072e+03 2.62500e+04]\n",
      "\n",
      "Distribution:\n",
      "spending_category\n",
      "low          25840\n",
      "high         24923\n",
      "medium       24849\n",
      "very_high    23845\n",
      "Name: count, dtype: int64\n"
     ]
    }
   ],
   "source": [
    "# making a new target column (\"spending_category\")\n",
    "\n",
    "# quantile building\n",
    "spending_bins = pd.qcut(\n",
    "    df[\"total_sales\"],\n",
    "    q=4,\n",
    "    labels=['low', 'medium', 'high', 'very_high']\n",
    ")\n",
    "\n",
    "# range boundaries (edges)\n",
    "quantile_ranges = pd.qcut(\n",
    "    df[\"total_sales\"],\n",
    "    q=4,\n",
    "    retbins=True\n",
    ")\n",
    "\n",
    "# assign the bin as new column\n",
    "df[\"spending_category\"] = spending_bins\n",
    "\n",
    "# show bin ranges\n",
    "print(\"Bin edges (Q0, Q1, Q2, Q3, Q4):\")\n",
    "print(quantile_ranges[1])\n",
    "\n",
    "# distribution check\n",
    "print(\"\\nDistribution:\")\n",
    "print(df[\"spending_category\"].value_counts())"
   ]
  },
  {
   "cell_type": "code",
   "execution_count": 10,
   "id": "ece98caa-7519-426a-9d26-4eed68fc5866",
   "metadata": {},
   "outputs": [],
   "source": [
    "# Create Target Column: Spending_Category\n",
    "def spending_category(sales):\n",
    "    if sales > 2700:\n",
    "        return \"Very High\"\n",
    "    elif sales > 600:\n",
    "        return \"High\"\n",
    "    elif sales > 135:\n",
    "        return \"Medium\"\n",
    "    else:\n",
    "        return \"Low\""
   ]
  },
  {
   "cell_type": "code",
   "execution_count": 11,
   "id": "8a8aa33d-628c-46e2-bb83-0ad90e646024",
   "metadata": {},
   "outputs": [
    {
     "data": {
      "text/plain": [
       "0        very_high\n",
       "1        very_high\n",
       "2           medium\n",
       "3        very_high\n",
       "4           medium\n",
       "           ...    \n",
       "99452       medium\n",
       "99453          low\n",
       "99454          low\n",
       "99455    very_high\n",
       "99456          low\n",
       "Name: spending_category, Length: 99457, dtype: category\n",
       "Categories (4, object): ['low' < 'medium' < 'high' < 'very_high']"
      ]
     },
     "execution_count": 11,
     "metadata": {},
     "output_type": "execute_result"
    }
   ],
   "source": [
    "df[\"spending_category\"]"
   ]
  },
  {
   "cell_type": "code",
   "execution_count": 12,
   "id": "fb092876-bfaf-4436-88ba-23792c630ac0",
   "metadata": {},
   "outputs": [
    {
     "data": {
      "text/html": [
       "<div>\n",
       "<style scoped>\n",
       "    .dataframe tbody tr th:only-of-type {\n",
       "        vertical-align: middle;\n",
       "    }\n",
       "\n",
       "    .dataframe tbody tr th {\n",
       "        vertical-align: top;\n",
       "    }\n",
       "\n",
       "    .dataframe thead th {\n",
       "        text-align: right;\n",
       "    }\n",
       "</style>\n",
       "<table border=\"1\" class=\"dataframe\">\n",
       "  <thead>\n",
       "    <tr style=\"text-align: right;\">\n",
       "      <th></th>\n",
       "      <th>invoice_no</th>\n",
       "      <th>customer_id</th>\n",
       "      <th>category</th>\n",
       "      <th>quantity</th>\n",
       "      <th>price</th>\n",
       "      <th>invoice_date</th>\n",
       "      <th>shopping_mall</th>\n",
       "      <th>gender</th>\n",
       "      <th>age</th>\n",
       "      <th>payment_method</th>\n",
       "      <th>total_sales</th>\n",
       "      <th>age_group</th>\n",
       "      <th>year</th>\n",
       "      <th>month</th>\n",
       "      <th>day_name</th>\n",
       "      <th>spending_category</th>\n",
       "    </tr>\n",
       "  </thead>\n",
       "  <tbody>\n",
       "    <tr>\n",
       "      <th>0</th>\n",
       "      <td>I138884</td>\n",
       "      <td>C241288</td>\n",
       "      <td>Clothing</td>\n",
       "      <td>5</td>\n",
       "      <td>1500.40</td>\n",
       "      <td>2022-08-05</td>\n",
       "      <td>Kanyon</td>\n",
       "      <td>Female</td>\n",
       "      <td>28.0</td>\n",
       "      <td>Credit Card</td>\n",
       "      <td>7502.00</td>\n",
       "      <td>20-29</td>\n",
       "      <td>2022</td>\n",
       "      <td>8</td>\n",
       "      <td>Friday</td>\n",
       "      <td>very_high</td>\n",
       "    </tr>\n",
       "    <tr>\n",
       "      <th>1</th>\n",
       "      <td>I317333</td>\n",
       "      <td>C111565</td>\n",
       "      <td>Shoes</td>\n",
       "      <td>3</td>\n",
       "      <td>1800.51</td>\n",
       "      <td>2021-12-12</td>\n",
       "      <td>Forum Istanbul</td>\n",
       "      <td>Male</td>\n",
       "      <td>21.0</td>\n",
       "      <td>Debit Card</td>\n",
       "      <td>5401.53</td>\n",
       "      <td>20-29</td>\n",
       "      <td>2021</td>\n",
       "      <td>12</td>\n",
       "      <td>Sunday</td>\n",
       "      <td>very_high</td>\n",
       "    </tr>\n",
       "    <tr>\n",
       "      <th>2</th>\n",
       "      <td>I127801</td>\n",
       "      <td>C266599</td>\n",
       "      <td>Clothing</td>\n",
       "      <td>1</td>\n",
       "      <td>300.08</td>\n",
       "      <td>2021-11-09</td>\n",
       "      <td>Metrocity</td>\n",
       "      <td>Male</td>\n",
       "      <td>20.0</td>\n",
       "      <td>Cash</td>\n",
       "      <td>300.08</td>\n",
       "      <td>Teen</td>\n",
       "      <td>2021</td>\n",
       "      <td>11</td>\n",
       "      <td>Tuesday</td>\n",
       "      <td>medium</td>\n",
       "    </tr>\n",
       "    <tr>\n",
       "      <th>3</th>\n",
       "      <td>I173702</td>\n",
       "      <td>C988172</td>\n",
       "      <td>Shoes</td>\n",
       "      <td>5</td>\n",
       "      <td>3000.85</td>\n",
       "      <td>2021-05-16</td>\n",
       "      <td>Metropol AVM</td>\n",
       "      <td>Female</td>\n",
       "      <td>66.0</td>\n",
       "      <td>Credit Card</td>\n",
       "      <td>15004.25</td>\n",
       "      <td>40+</td>\n",
       "      <td>2021</td>\n",
       "      <td>5</td>\n",
       "      <td>Sunday</td>\n",
       "      <td>very_high</td>\n",
       "    </tr>\n",
       "    <tr>\n",
       "      <th>4</th>\n",
       "      <td>I337046</td>\n",
       "      <td>C189076</td>\n",
       "      <td>Books</td>\n",
       "      <td>4</td>\n",
       "      <td>60.60</td>\n",
       "      <td>2021-10-24</td>\n",
       "      <td>Kanyon</td>\n",
       "      <td>Female</td>\n",
       "      <td>53.0</td>\n",
       "      <td>Cash</td>\n",
       "      <td>242.40</td>\n",
       "      <td>40+</td>\n",
       "      <td>2021</td>\n",
       "      <td>10</td>\n",
       "      <td>Sunday</td>\n",
       "      <td>medium</td>\n",
       "    </tr>\n",
       "  </tbody>\n",
       "</table>\n",
       "</div>"
      ],
      "text/plain": [
       "  invoice_no customer_id  category  quantity    price invoice_date  \\\n",
       "0    I138884     C241288  Clothing         5  1500.40   2022-08-05   \n",
       "1    I317333     C111565     Shoes         3  1800.51   2021-12-12   \n",
       "2    I127801     C266599  Clothing         1   300.08   2021-11-09   \n",
       "3    I173702     C988172     Shoes         5  3000.85   2021-05-16   \n",
       "4    I337046     C189076     Books         4    60.60   2021-10-24   \n",
       "\n",
       "    shopping_mall  gender   age payment_method  total_sales age_group  year  \\\n",
       "0          Kanyon  Female  28.0    Credit Card      7502.00     20-29  2022   \n",
       "1  Forum Istanbul    Male  21.0     Debit Card      5401.53     20-29  2021   \n",
       "2       Metrocity    Male  20.0           Cash       300.08      Teen  2021   \n",
       "3    Metropol AVM  Female  66.0    Credit Card     15004.25       40+  2021   \n",
       "4          Kanyon  Female  53.0           Cash       242.40       40+  2021   \n",
       "\n",
       "   month day_name spending_category  \n",
       "0      8   Friday         very_high  \n",
       "1     12   Sunday         very_high  \n",
       "2     11  Tuesday            medium  \n",
       "3      5   Sunday         very_high  \n",
       "4     10   Sunday            medium  "
      ]
     },
     "execution_count": 12,
     "metadata": {},
     "output_type": "execute_result"
    }
   ],
   "source": [
    "df.head()"
   ]
  },
  {
   "cell_type": "code",
   "execution_count": 13,
   "id": "883170ba-d451-456b-88ea-f8157dc0cf2c",
   "metadata": {},
   "outputs": [],
   "source": [
    "# Drop unnecessary columns\n",
    "df = df.drop(columns=[\"customer_id\", \"invoice_date\", \"price\", \"quantity\", \"age_group\", \"total_sales\", \"invoice_no\"])"
   ]
  },
  {
   "cell_type": "code",
   "execution_count": 14,
   "id": "3fc4401d-4550-48c9-b520-ce48cc98fc74",
   "metadata": {},
   "outputs": [
    {
     "data": {
      "text/plain": [
       "Index(['category', 'shopping_mall', 'gender', 'age', 'payment_method', 'year',\n",
       "       'month', 'day_name', 'spending_category'],\n",
       "      dtype='object')"
      ]
     },
     "execution_count": 14,
     "metadata": {},
     "output_type": "execute_result"
    }
   ],
   "source": [
    "df.columns"
   ]
  },
  {
   "cell_type": "code",
   "execution_count": null,
   "id": "715b4eb4-daa7-4887-9f6f-1f9c4d31fd5d",
   "metadata": {},
   "outputs": [],
   "source": [
    "g = sns.pairplot(df, hue=\"spending_category\")\n",
    "#g.savefig(r\"C:\\pyythonn\\Assignment 1\\pairplot.png\", dpi=300, bbox_inches='tight')\n",
    "plt.show()"
   ]
  },
  {
   "cell_type": "code",
   "execution_count": 15,
   "id": "55b21174-38ab-463c-8b27-d18f2d75f4d4",
   "metadata": {},
   "outputs": [],
   "source": [
    "X = df.drop(columns=[\"spending_category\"])\n",
    "y = df[\"spending_category\"]"
   ]
  },
  {
   "cell_type": "code",
   "execution_count": 16,
   "id": "35e5e99f-0c58-438d-a15f-c8e54371834b",
   "metadata": {},
   "outputs": [],
   "source": [
    "#splitting data into train 80% and test 20%\n",
    "from sklearn.model_selection import train_test_split\n",
    "\n",
    "X_train, X_test, y_train, y_test = train_test_split(\n",
    "    X, y, test_size=0.2, random_state=42, stratify=y\n",
    ")"
   ]
  },
  {
   "cell_type": "code",
   "execution_count": 17,
   "id": "598fe364-29d1-4c8d-ae9b-794c226678f6",
   "metadata": {},
   "outputs": [],
   "source": [
    "from sklearn.preprocessing import LabelEncoder\n",
    "\n",
    "# Encode target\n",
    "le_target = LabelEncoder()\n",
    "y_train = le_target.fit_transform(y_train)\n",
    "y_test = le_target.transform(y_test)\n",
    "\n",
    "# Day_Name mapping (ordinal)\n",
    "day_map = {\n",
    "    \"Monday\": 1, \"Tuesday\": 2, \"Wednesday\": 3,\n",
    "    \"Thursday\": 4, \"Friday\": 5, \"Saturday\": 6, \"Sunday\": 7\n",
    "}\n",
    "X_train[\"day_name\"] = X_train[\"day_name\"].map(day_map)\n",
    "X_test[\"day_name\"] = X_test[\"day_name\"].map(day_map)\n",
    "\n",
    "# Encode categorical columns in X\n",
    "categorical_cols = [\"gender\", \"payment_method\", \"category\", \"shopping_mall\"]\n",
    "\n",
    "encoders = {}\n",
    "for col in categorical_cols:\n",
    "    le = LabelEncoder()\n",
    "    X_train[col] = le.fit_transform(X_train[col])\n",
    "    X_test[col] = le.transform(X_test[col])   # use same mapping\n",
    "    encoders[col] = le  # store encoder for future use"
   ]
  },
  {
   "cell_type": "code",
   "execution_count": 18,
   "id": "c4333e09-3efc-4ba0-9704-e0faa4279053",
   "metadata": {},
   "outputs": [
    {
     "data": {
      "text/html": [
       "<div>\n",
       "<style scoped>\n",
       "    .dataframe tbody tr th:only-of-type {\n",
       "        vertical-align: middle;\n",
       "    }\n",
       "\n",
       "    .dataframe tbody tr th {\n",
       "        vertical-align: top;\n",
       "    }\n",
       "\n",
       "    .dataframe thead th {\n",
       "        text-align: right;\n",
       "    }\n",
       "</style>\n",
       "<table border=\"1\" class=\"dataframe\">\n",
       "  <thead>\n",
       "    <tr style=\"text-align: right;\">\n",
       "      <th></th>\n",
       "      <th>category</th>\n",
       "      <th>shopping_mall</th>\n",
       "      <th>gender</th>\n",
       "      <th>age</th>\n",
       "      <th>payment_method</th>\n",
       "      <th>year</th>\n",
       "      <th>month</th>\n",
       "      <th>day_name</th>\n",
       "    </tr>\n",
       "  </thead>\n",
       "  <tbody>\n",
       "    <tr>\n",
       "      <th>36744</th>\n",
       "      <td>3</td>\n",
       "      <td>4</td>\n",
       "      <td>0</td>\n",
       "      <td>27.0</td>\n",
       "      <td>2</td>\n",
       "      <td>2021</td>\n",
       "      <td>7</td>\n",
       "      <td>1</td>\n",
       "    </tr>\n",
       "    <tr>\n",
       "      <th>92004</th>\n",
       "      <td>3</td>\n",
       "      <td>3</td>\n",
       "      <td>1</td>\n",
       "      <td>35.0</td>\n",
       "      <td>2</td>\n",
       "      <td>2021</td>\n",
       "      <td>12</td>\n",
       "      <td>3</td>\n",
       "    </tr>\n",
       "    <tr>\n",
       "      <th>86146</th>\n",
       "      <td>2</td>\n",
       "      <td>4</td>\n",
       "      <td>0</td>\n",
       "      <td>23.0</td>\n",
       "      <td>0</td>\n",
       "      <td>2023</td>\n",
       "      <td>2</td>\n",
       "      <td>2</td>\n",
       "    </tr>\n",
       "    <tr>\n",
       "      <th>31576</th>\n",
       "      <td>1</td>\n",
       "      <td>7</td>\n",
       "      <td>0</td>\n",
       "      <td>22.0</td>\n",
       "      <td>2</td>\n",
       "      <td>2021</td>\n",
       "      <td>3</td>\n",
       "      <td>5</td>\n",
       "    </tr>\n",
       "    <tr>\n",
       "      <th>87726</th>\n",
       "      <td>3</td>\n",
       "      <td>6</td>\n",
       "      <td>1</td>\n",
       "      <td>44.0</td>\n",
       "      <td>1</td>\n",
       "      <td>2022</td>\n",
       "      <td>6</td>\n",
       "      <td>4</td>\n",
       "    </tr>\n",
       "  </tbody>\n",
       "</table>\n",
       "</div>"
      ],
      "text/plain": [
       "       category  shopping_mall  gender   age  payment_method  year  month  \\\n",
       "36744         3              4       0  27.0               2  2021      7   \n",
       "92004         3              3       1  35.0               2  2021     12   \n",
       "86146         2              4       0  23.0               0  2023      2   \n",
       "31576         1              7       0  22.0               2  2021      3   \n",
       "87726         3              6       1  44.0               1  2022      6   \n",
       "\n",
       "       day_name  \n",
       "36744         1  \n",
       "92004         3  \n",
       "86146         2  \n",
       "31576         5  \n",
       "87726         4  "
      ]
     },
     "execution_count": 18,
     "metadata": {},
     "output_type": "execute_result"
    }
   ],
   "source": [
    "X_train.head()"
   ]
  },
  {
   "cell_type": "code",
   "execution_count": 19,
   "id": "d11b9add-9642-4ce8-8685-2f99a6f2a586",
   "metadata": {},
   "outputs": [
    {
     "data": {
      "text/plain": [
       "array([1, 1, 1, ..., 2, 2, 3], shape=(79565,))"
      ]
     },
     "execution_count": 19,
     "metadata": {},
     "output_type": "execute_result"
    }
   ],
   "source": [
    "y_train"
   ]
  },
  {
   "cell_type": "code",
   "execution_count": 20,
   "id": "f26c177c-8162-4e7f-a9c3-c6a6b5db7597",
   "metadata": {},
   "outputs": [],
   "source": [
    "from sklearn.preprocessing import StandardScaler\n",
    "\n",
    "# Select only numerical columns (confirm they exist in your dataset)\n",
    "num_cols = [\"age\", \"year\", \"month\"]\n",
    "\n",
    "scaler = StandardScaler()\n",
    "\n",
    "# Make copies\n",
    "X_train_scaled = X_train.copy()\n",
    "X_test_scaled = X_test.copy()\n",
    "\n",
    "# Fit on training, transform both\n",
    "X_train_scaled[num_cols] = scaler.fit_transform(X_train[num_cols])\n",
    "X_test_scaled[num_cols] = scaler.transform(X_test[num_cols])\n"
   ]
  },
  {
   "cell_type": "code",
   "execution_count": 21,
   "id": "2a07a013-8c5b-45be-b424-3d1e45d8b060",
   "metadata": {},
   "outputs": [
    {
     "data": {
      "text/html": [
       "<div>\n",
       "<style scoped>\n",
       "    .dataframe tbody tr th:only-of-type {\n",
       "        vertical-align: middle;\n",
       "    }\n",
       "\n",
       "    .dataframe tbody tr th {\n",
       "        vertical-align: top;\n",
       "    }\n",
       "\n",
       "    .dataframe thead th {\n",
       "        text-align: right;\n",
       "    }\n",
       "</style>\n",
       "<table border=\"1\" class=\"dataframe\">\n",
       "  <thead>\n",
       "    <tr style=\"text-align: right;\">\n",
       "      <th></th>\n",
       "      <th>category</th>\n",
       "      <th>shopping_mall</th>\n",
       "      <th>gender</th>\n",
       "      <th>age</th>\n",
       "      <th>payment_method</th>\n",
       "      <th>year</th>\n",
       "      <th>month</th>\n",
       "      <th>day_name</th>\n",
       "    </tr>\n",
       "  </thead>\n",
       "  <tbody>\n",
       "    <tr>\n",
       "      <th>36744</th>\n",
       "      <td>3</td>\n",
       "      <td>4</td>\n",
       "      <td>0</td>\n",
       "      <td>-1.096013</td>\n",
       "      <td>2</td>\n",
       "      <td>-0.991708</td>\n",
       "      <td>0.249890</td>\n",
       "      <td>1</td>\n",
       "    </tr>\n",
       "    <tr>\n",
       "      <th>92004</th>\n",
       "      <td>3</td>\n",
       "      <td>3</td>\n",
       "      <td>1</td>\n",
       "      <td>-0.561798</td>\n",
       "      <td>2</td>\n",
       "      <td>-0.991708</td>\n",
       "      <td>1.649512</td>\n",
       "      <td>3</td>\n",
       "    </tr>\n",
       "    <tr>\n",
       "      <th>86146</th>\n",
       "      <td>2</td>\n",
       "      <td>4</td>\n",
       "      <td>0</td>\n",
       "      <td>-1.363121</td>\n",
       "      <td>0</td>\n",
       "      <td>2.154497</td>\n",
       "      <td>-1.149733</td>\n",
       "      <td>2</td>\n",
       "    </tr>\n",
       "    <tr>\n",
       "      <th>31576</th>\n",
       "      <td>1</td>\n",
       "      <td>7</td>\n",
       "      <td>0</td>\n",
       "      <td>-1.429898</td>\n",
       "      <td>2</td>\n",
       "      <td>-0.991708</td>\n",
       "      <td>-0.869808</td>\n",
       "      <td>5</td>\n",
       "    </tr>\n",
       "    <tr>\n",
       "      <th>87726</th>\n",
       "      <td>3</td>\n",
       "      <td>6</td>\n",
       "      <td>1</td>\n",
       "      <td>0.039193</td>\n",
       "      <td>1</td>\n",
       "      <td>0.581395</td>\n",
       "      <td>-0.030035</td>\n",
       "      <td>4</td>\n",
       "    </tr>\n",
       "    <tr>\n",
       "      <th>...</th>\n",
       "      <td>...</td>\n",
       "      <td>...</td>\n",
       "      <td>...</td>\n",
       "      <td>...</td>\n",
       "      <td>...</td>\n",
       "      <td>...</td>\n",
       "      <td>...</td>\n",
       "      <td>...</td>\n",
       "    </tr>\n",
       "    <tr>\n",
       "      <th>1496</th>\n",
       "      <td>1</td>\n",
       "      <td>5</td>\n",
       "      <td>0</td>\n",
       "      <td>-0.762129</td>\n",
       "      <td>1</td>\n",
       "      <td>-0.991708</td>\n",
       "      <td>-0.030035</td>\n",
       "      <td>1</td>\n",
       "    </tr>\n",
       "    <tr>\n",
       "      <th>68702</th>\n",
       "      <td>1</td>\n",
       "      <td>7</td>\n",
       "      <td>0</td>\n",
       "      <td>1.040846</td>\n",
       "      <td>1</td>\n",
       "      <td>-0.991708</td>\n",
       "      <td>0.249890</td>\n",
       "      <td>5</td>\n",
       "    </tr>\n",
       "    <tr>\n",
       "      <th>36289</th>\n",
       "      <td>0</td>\n",
       "      <td>3</td>\n",
       "      <td>1</td>\n",
       "      <td>-1.029236</td>\n",
       "      <td>0</td>\n",
       "      <td>0.581395</td>\n",
       "      <td>1.369588</td>\n",
       "      <td>1</td>\n",
       "    </tr>\n",
       "    <tr>\n",
       "      <th>43261</th>\n",
       "      <td>1</td>\n",
       "      <td>1</td>\n",
       "      <td>1</td>\n",
       "      <td>-0.027584</td>\n",
       "      <td>0</td>\n",
       "      <td>-0.991708</td>\n",
       "      <td>0.809739</td>\n",
       "      <td>1</td>\n",
       "    </tr>\n",
       "    <tr>\n",
       "      <th>16364</th>\n",
       "      <td>1</td>\n",
       "      <td>2</td>\n",
       "      <td>0</td>\n",
       "      <td>-1.630228</td>\n",
       "      <td>0</td>\n",
       "      <td>0.581395</td>\n",
       "      <td>-0.030035</td>\n",
       "      <td>4</td>\n",
       "    </tr>\n",
       "  </tbody>\n",
       "</table>\n",
       "<p>79565 rows × 8 columns</p>\n",
       "</div>"
      ],
      "text/plain": [
       "       category  shopping_mall  gender       age  payment_method      year  \\\n",
       "36744         3              4       0 -1.096013               2 -0.991708   \n",
       "92004         3              3       1 -0.561798               2 -0.991708   \n",
       "86146         2              4       0 -1.363121               0  2.154497   \n",
       "31576         1              7       0 -1.429898               2 -0.991708   \n",
       "87726         3              6       1  0.039193               1  0.581395   \n",
       "...         ...            ...     ...       ...             ...       ...   \n",
       "1496          1              5       0 -0.762129               1 -0.991708   \n",
       "68702         1              7       0  1.040846               1 -0.991708   \n",
       "36289         0              3       1 -1.029236               0  0.581395   \n",
       "43261         1              1       1 -0.027584               0 -0.991708   \n",
       "16364         1              2       0 -1.630228               0  0.581395   \n",
       "\n",
       "          month  day_name  \n",
       "36744  0.249890         1  \n",
       "92004  1.649512         3  \n",
       "86146 -1.149733         2  \n",
       "31576 -0.869808         5  \n",
       "87726 -0.030035         4  \n",
       "...         ...       ...  \n",
       "1496  -0.030035         1  \n",
       "68702  0.249890         5  \n",
       "36289  1.369588         1  \n",
       "43261  0.809739         1  \n",
       "16364 -0.030035         4  \n",
       "\n",
       "[79565 rows x 8 columns]"
      ]
     },
     "execution_count": 21,
     "metadata": {},
     "output_type": "execute_result"
    }
   ],
   "source": [
    "X_train_scaled"
   ]
  },
  {
   "cell_type": "code",
   "execution_count": 22,
   "id": "42127fac-7cb3-4674-9cff-a52b659834a9",
   "metadata": {},
   "outputs": [],
   "source": [
    " #Logistic Regression model\n",
    "from sklearn.linear_model import LogisticRegression\n",
    "log_reg = LogisticRegression(max_iter=1000, random_state=42)\n",
    "\n",
    "# Train\n",
    "log_reg.fit(X_train_scaled, y_train)\n",
    "\n",
    "# Predict\n",
    "y_pred = log_reg.predict(X_test_scaled)"
   ]
  },
  {
   "cell_type": "code",
   "execution_count": 23,
   "id": "da6c93ed-3c61-45d8-b470-c0ae4a52bad5",
   "metadata": {},
   "outputs": [
    {
     "name": "stdout",
     "output_type": "stream",
     "text": [
      "Accuracy: 0.5011562437160667\n"
     ]
    }
   ],
   "source": [
    "# Decision Tree model\n",
    "from sklearn.tree import DecisionTreeClassifier\n",
    "from sklearn.metrics import accuracy_score\n",
    "\n",
    "dt = DecisionTreeClassifier(random_state=42, max_depth=None)  # max_depth=None means pura tree grow karega\n",
    "dt.fit(X_train_scaled, y_train)\n",
    "\n",
    "# Predict\n",
    "y_pred_dt = dt.predict(X_test_scaled)\n",
    "\n",
    "# Accuracy\n",
    "acc = accuracy_score(y_test, y_pred_dt)\n",
    "print(\"Accuracy:\", acc)"
   ]
  },
  {
   "cell_type": "code",
   "execution_count": 24,
   "id": "19a52c10-13a6-4fdb-b6cf-36950ae1e344",
   "metadata": {},
   "outputs": [
    {
     "name": "stdout",
     "output_type": "stream",
     "text": [
      "Accuracy: 0.5458978483812588\n"
     ]
    }
   ],
   "source": [
    "# Random Forest model\n",
    "from sklearn.ensemble import RandomForestClassifier\n",
    "from sklearn.metrics import accuracy_score\n",
    "\n",
    "rf_model = RandomForestClassifier(n_estimators=200, max_depth=None, random_state=42)\n",
    "\n",
    "# Train\n",
    "rf_model.fit(X_train_scaled, y_train)\n",
    "\n",
    "# Predict\n",
    "y_pred_rf = rf_model.predict(X_test_scaled)\n",
    "\n",
    "# Accuracy\n",
    "acc = accuracy_score(y_test, y_pred_rf)\n",
    "print(\"Accuracy:\", acc)"
   ]
  },
  {
   "cell_type": "code",
   "execution_count": 25,
   "id": "637a4bc4-9e67-4cc1-b7c1-a3a6672a37d2",
   "metadata": {},
   "outputs": [
    {
     "name": "stdout",
     "output_type": "stream",
     "text": [
      "Accuracy: 0.5019103157048059\n"
     ]
    }
   ],
   "source": [
    "# KNN model\n",
    "from sklearn.neighbors import KNeighborsClassifier\n",
    "from sklearn.metrics import accuracy_score\n",
    "\n",
    "knn = KNeighborsClassifier(n_neighbors=5)\n",
    "\n",
    "#Train\n",
    "knn.fit(X_train_scaled, y_train)\n",
    "\n",
    "#Predict on test set\n",
    "y_pred_knn = knn.predict(X_test_scaled)\n",
    "\n",
    "# Accuracy\n",
    "acc = accuracy_score(y_test, y_pred_knn)\n",
    "print(\"Accuracy:\", acc)"
   ]
  },
  {
   "cell_type": "code",
   "execution_count": 26,
   "id": "5df0d8fa-f132-4536-b14c-6f7b61de876a",
   "metadata": {},
   "outputs": [
    {
     "name": "stdout",
     "output_type": "stream",
     "text": [
      "done\n"
     ]
    }
   ],
   "source": [
    "from sklearn.metrics import accuracy_score, precision_score, recall_score, f1_score\n",
    "\n",
    "# Function to evaluate models\n",
    "def evaluate_model(y_true, y_pred, model_name):\n",
    "    return {\n",
    "        \"Model\": model_name,\n",
    "        \"Accuracy\": accuracy_score(y_true, y_pred),\n",
    "        \"Precision\": precision_score(y_true, y_pred, average=\"weighted\"),\n",
    "        \"Recall\": recall_score(y_true, y_pred, average=\"weighted\"),\n",
    "        \"F1-score\": f1_score(y_true, y_pred, average=\"weighted\")\n",
    "    }\n",
    "\n",
    "# Collect all results\n",
    "results = []\n",
    "print(\"done\")"
   ]
  },
  {
   "cell_type": "code",
   "execution_count": 27,
   "id": "5b529ceb-531b-41f8-8bea-13c660bbf708",
   "metadata": {},
   "outputs": [
    {
     "name": "stdout",
     "output_type": "stream",
     "text": [
      "                 Model  Accuracy  Precision    Recall  F1-score\n",
      "0  Logistic Regression  0.428313   0.336615  0.428313  0.356924\n",
      "1        Decision Tree  0.501156   0.501286  0.501156  0.501181\n",
      "2        Random Forest  0.545898   0.547830  0.545898  0.545469\n",
      "3                  KNN  0.501910   0.510082  0.501910  0.502859\n"
     ]
    },
    {
     "name": "stderr",
     "output_type": "stream",
     "text": [
      "C:\\Users\\St.law\\miniconda3\\Lib\\site-packages\\sklearn\\metrics\\_classification.py:1731: UndefinedMetricWarning: Precision is ill-defined and being set to 0.0 in labels with no predicted samples. Use `zero_division` parameter to control this behavior.\n",
      "  _warn_prf(average, modifier, f\"{metric.capitalize()} is\", result.shape[0])\n"
     ]
    }
   ],
   "source": [
    "results.append(evaluate_model(y_test, y_pred, \"Logistic Regression\"))\n",
    "results.append(evaluate_model(y_test, y_pred_dt, \"Decision Tree\"))\n",
    "results.append(evaluate_model(y_test, y_pred_rf, \"Random Forest\"))\n",
    "results.append(evaluate_model(y_test, y_pred_knn, \"KNN\"))\n",
    "\n",
    "# Convert to DataFrame for clean table\n",
    "results_df = pd.DataFrame(results)\n",
    "\n",
    "print(results_df)"
   ]
  },
  {
   "cell_type": "code",
   "execution_count": 34,
   "id": "89593041-1fc0-43ba-af90-65dabb996d44",
   "metadata": {},
   "outputs": [
    {
     "data": {
      "image/png": "[encoded data removed]",
      "text/plain": [
       "<Figure size 800x500 with 1 Axes>"
      ]
     },
     "metadata": {},
     "output_type": "display_data"
    }
   ],
   "source": [
    "#Optional: Visualization\n",
    "plt.figure(figsize=(8,5))\n",
    "sns.barplot(x=\"Model\", y=\"Accuracy\", data=results_df)\n",
    "plt.title(\"Model Comparison (Accuracy)\")\n",
    "plt.ylabel(\"Accuracy\")\n",
    "plt.xticks(rotation=45)\n",
    "plt.savefig(r\"C:\\pyythonn\\Assignment 1\\barplot.png\", dpi=300, bbox_inches='tight')\n",
    "plt.show()\n"
   ]
  },
  {
   "cell_type": "code",
   "execution_count": 33,
   "id": "87fbc5a6-e25c-4fe8-91ad-899cb90a8598",
   "metadata": {},
   "outputs": [
    {
     "data": {
      "image/png": "[encoded data removed]",
      "text/plain": [
       "<Figure size 600x400 with 2 Axes>"
      ]
     },
     "metadata": {},
     "output_type": "display_data"
    },
    {
     "name": "stdout",
     "output_type": "stream",
     "text": [
      "Classification Report (Random Forest - Default):\n",
      "\n",
      "              precision    recall  f1-score   support\n",
      "\n",
      "        high       0.39      0.38      0.39      4985\n",
      "         low       0.81      0.76      0.79      5168\n",
      "      medium       0.44      0.41      0.42      4970\n",
      "   very_high       0.53      0.63      0.58      4769\n",
      "\n",
      "    accuracy                           0.55     19892\n",
      "   macro avg       0.55      0.54      0.54     19892\n",
      "weighted avg       0.55      0.55      0.55     19892\n",
      "\n"
     ]
    }
   ],
   "source": [
    "from sklearn.metrics import confusion_matrix, classification_report\n",
    "\n",
    "y_pred_rf = rf_model.predict(X_test_scaled)\n",
    "\n",
    "# Confusion Matrix\n",
    "cm = confusion_matrix(y_test, y_pred_rf)\n",
    "\n",
    "plt.figure(figsize=(6,4))\n",
    "sns.heatmap(cm, annot=True, fmt=\"d\", cmap=\"Blues\",\n",
    "            xticklabels=le_target.classes_, \n",
    "            yticklabels=le_target.classes_)\n",
    "plt.xlabel(\"Predicted\")\n",
    "plt.ylabel(\"Actual\")\n",
    "plt.title(\"Confusion Matrix - Random Forest (Default)\")\n",
    "plt.savefig(r\"C:\\pyythonn\\Assignment 1\\heatmap.png\", dpi=300, bbox_inches='tight')\n",
    "plt.show()\n",
    "\n",
    "#  Classification Report\n",
    "print(\"Classification Report (Random Forest - Default):\\n\")\n",
    "print(classification_report(y_test, y_pred_rf, target_names=le_target.classes_))\n"
   ]
  },
  {
   "cell_type": "code",
   "execution_count": null,
   "id": "c958a5c1-4dec-4efd-a98e-62f792260170",
   "metadata": {},
   "outputs": [],
   "source": []
  }
 ],
 "metadata": {
  "kernelspec": {
   "display_name": "Python 3 (ipykernel)",
   "language": "python",
   "name": "python3"
  },
  "language_info": {
   "codemirror_mode": {
    "name": "ipython",
    "version": 3
   },
   "file_extension": ".py",
   "mimetype": "text/x-python",
   "name": "python",
   "nbconvert_exporter": "python",
   "pygments_lexer": "ipython3",
   "version": "3.13.5"
  }
 },
 "nbformat": 4,
 "nbformat_minor": 5
}
